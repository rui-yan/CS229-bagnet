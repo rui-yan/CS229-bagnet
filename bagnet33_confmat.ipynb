{
 "cells": [
  {
   "cell_type": "code",
   "execution_count": 1,
   "metadata": {},
   "outputs": [
    {
     "name": "stdout",
     "output_type": "stream",
     "text": [
      "[libraries successfully installed...]\n"
     ]
    }
   ],
   "source": [
    "import numpy as np\n",
    "import pandas as pd\n",
    "import torch\n",
    "import torch.nn as nn\n",
    "import torch.optim as optim\n",
    "import torchvision\n",
    "from torchvision import datasets, models, transforms\n",
    "import matplotlib.pyplot as plt\n",
    "import time\n",
    "import os\n",
    "import cv2\n",
    "import copy\n",
    "import matplotlib.pyplot as plt\n",
    "%matplotlib inline\n",
    "from sklearn.feature_extraction.image import extract_patches_2d\n",
    "from sklearn.model_selection import train_test_split\n",
    "from sklearn.model_selection import KFold,StratifiedKFold\n",
    "from sklearn.metrics import roc_auc_score\n",
    "import torch\n",
    "from torch.utils.data import TensorDataset, DataLoader,Dataset\n",
    "import torch.nn as nn\n",
    "import torch.nn.functional as F\n",
    "import torchvision\n",
    "import torchvision.transforms as transforms\n",
    "import torch.optim as optim\n",
    "from torch.optim import lr_scheduler\n",
    "import torch.backends.cudnn as cudnn\n",
    "import time\n",
    "import tqdm\n",
    "import random\n",
    "from PIL import Image\n",
    "train_on_gpu = True\n",
    "from torch.utils.data.sampler import SubsetRandomSampler\n",
    "from torch.optim.lr_scheduler import StepLR, ReduceLROnPlateau, CosineAnnealingLR\n",
    "try:\n",
    "    import torchbearer\n",
    "except:\n",
    "    !pip install torchbearer\n",
    "    import torchbearer\n",
    "from torchbearer import Trial\n",
    "import scipy\n",
    "import scipy.special\n",
    "import bagnets.pytorchnet\n",
    "print(\"[libraries successfully installed...]\")"
   ]
  },
  {
   "cell_type": "code",
   "execution_count": 3,
   "metadata": {},
   "outputs": [],
   "source": [
    "# Top level data directory\n",
    "data_dir = './flowers/'\n",
    "\n",
    "# Save our result (model checkpoints, loss_acc data, plots)to this directory\n",
    "saved_model_dir = './model_performance_results/bagnet33_baseline_results/'\n",
    "\n",
    "model_name = 'bagnet33'\n",
    "\n",
    "# Number of classes in  the dataset\n",
    "num_classes = 5\n",
    "\n",
    "# Batch size for training (standardized to BagNet baseline)\n",
    "batch_size = 32\n",
    "\n",
    "# Flag for feature extracting. When False, we finetune the whole model, when True we only update the reshaped layer params\n",
    "feature_extract = True"
   ]
  },
  {
   "cell_type": "code",
   "execution_count": 4,
   "metadata": {},
   "outputs": [
    {
     "name": "stdout",
     "output_type": "stream",
     "text": [
      "[Using cpu ...]\n"
     ]
    }
   ],
   "source": [
    "#-------------------- Some Helper Functions ---------------------------#\n",
    "\n",
    "# compute gradients for newly initialized layer\n",
    "def set_parameter_requires_grad(model, feature_extracting):\n",
    "    \"\"\"\n",
    "    This function sets all parameters of model to False, which means we don't fine\n",
    "    tune all parameters but only feature extract and compute gradients\n",
    "    for newly initialized layer.\n",
    "    \"\"\"\n",
    "    if feature_extracting:\n",
    "        for param in model.parameters():\n",
    "            param.requires_grad = False\n",
    "\n",
    "\n",
    "def initialize_model(model_name, num_classes, feature_extract, use_pretrained=True):\n",
    "    \"\"\"\n",
    "    This function initializes these variables which will be set in this\n",
    "    if statement. Each of these variables is model specific.\n",
    "    \"\"\"\n",
    "    model_ft = None\n",
    "\n",
    "    if model_name == \"bagnet9\":\n",
    "        model_ft = bagnets.pytorchnet.bagnet9(pretrained=use_pretrained)\n",
    "    if model_name == \"bagnet17\":\n",
    "        model_ft = bagnets.pytorchnet.bagnet17(pretrained=use_pretrained)\n",
    "    if model_name == \"bagnet33\":\n",
    "        model_ft = bagnets.pytorchnet.bagnet33(pretrained=use_pretrained)\n",
    "\n",
    "    set_parameter_requires_grad(model_ft, feature_extract)\n",
    "\n",
    "    # Change the last layer to match our number of classes\n",
    "    num_ftrs = model_ft.fc.in_features\n",
    "    model_ft.fc = nn.Linear(num_ftrs, num_classes)\n",
    "\n",
    "    return model_ft\n",
    "\n",
    "# Detect if we have a GPU available\n",
    "device = torch.device(\"cuda:0\" if torch.cuda.is_available() else \"cpu\")\n",
    "print(\"[Using\", device , \"...]\")"
   ]
  },
  {
   "cell_type": "code",
   "execution_count": 5,
   "metadata": {},
   "outputs": [
    {
     "name": "stdout",
     "output_type": "stream",
     "text": [
      "==> [Preparing data ....]\n",
      "Initializing Datasets and Dataloaders...\n"
     ]
    }
   ],
   "source": [
    "#--------------------- Load test datasets ------------------------------#\n",
    "\n",
    "print(\"==> [Preparing data ....]\")\n",
    "\n",
    "# Data augmentation and normalization for training\n",
    "data_transforms = {\n",
    "    \"train\": transforms.Compose([\n",
    "        transforms.RandomResizedCrop(224),  # resize the image to 224*224 pixels\n",
    "        transforms.CenterCrop(224),  # crop the image to 224*224 pixels about the center\n",
    "        transforms.RandomHorizontalFlip(),  # convert the image to PyTorch Tensor data type\n",
    "        transforms.ToTensor(),\n",
    "        transforms.Normalize([0.485, 0.456, 0.406], [0.229, 0.224, 0.225])\n",
    "    ]),\n",
    "    # Just normalization for validation\n",
    "    \"val\": transforms.Compose([\n",
    "        transforms.Resize(224),\n",
    "        transforms.CenterCrop(224),\n",
    "        transforms.ToTensor(),\n",
    "        transforms.Normalize([0.485, 0.456, 0.406], [0.229, 0.224, 0.225])\n",
    "    ]),\n",
    "    \"test\": transforms.Compose([\n",
    "        transforms.Resize(224),\n",
    "        transforms.CenterCrop(224),\n",
    "        transforms.ToTensor(),\n",
    "        transforms.Normalize([0.485, 0.456, 0.406], [0.229, 0.224, 0.225])\n",
    "    ]),\n",
    "}\n",
    "\n",
    "print(\"Initializing Datasets and Dataloaders...\")\n",
    "\n",
    "# Create training and validation datasets\n",
    "train_data = torchvision.datasets.ImageFolder(data_dir + \"train/\", data_transforms[\"train\"])\n",
    "val_data = torchvision.datasets.ImageFolder(data_dir + \"val/\", data_transforms[\"val\"])\n",
    "test_data = torchvision.datasets.ImageFolder(data_dir + \"test/\", data_transforms[\"test\"])\n",
    "\n",
    "# Create training and validation dataloaders\n",
    "dataloaders_dict = {\"train\": torch.utils.data.DataLoader(train_data, batch_size=batch_size,\n",
    "                    shuffle=True, num_workers=2),\n",
    "                    \"val\": torch.utils.data.DataLoader(val_data, batch_size=batch_size,\n",
    "                    shuffle=False, num_workers=2),\n",
    "                    \"test\": torch.utils.data.DataLoader(test_data, batch_size=batch_size,\n",
    "                    shuffle=False, num_workers=2)}\n",
    "\n",
    "train_loader = dataloaders_dict['train']\n",
    "val_loader = dataloaders_dict['val']\n",
    "test_loader = dataloaders_dict['test']"
   ]
  },
  {
   "cell_type": "code",
   "execution_count": 6,
   "metadata": {},
   "outputs": [
    {
     "name": "stdout",
     "output_type": "stream",
     "text": [
      "==> Bagnet-33 model\n",
      "Params to learn:\n",
      "\t fc.weight\n",
      "\t fc.bias\n",
      "[Using CrossEntropyLoss ...]\n",
      "[Bagnet33 model Initialized...]\n"
     ]
    }
   ],
   "source": [
    "##------------------- Initialize Bagnet-33 model --------------------##\n",
    "\n",
    "print('==> Bagnet-33 model')\n",
    "\n",
    "model_ft = initialize_model(model_name, num_classes, feature_extract, use_pretrained=True)\n",
    "# Send the model to CPU\n",
    "model_ft = model_ft.to(device)\n",
    "params_to_update = model_ft.parameters()\n",
    "print(\"Params to learn:\")\n",
    "if feature_extract:\n",
    "    params_to_update = []\n",
    "    for name, param in model_ft.named_parameters():\n",
    "        if param.requires_grad == True:\n",
    "            params_to_update.append(param)\n",
    "            print(\"\\t\",name)\n",
    "else:\n",
    "    for name,param in model_ft.named_parameters():\n",
    "        if param.requires_grad == True:\n",
    "            print(\"\\t\",name)\n",
    "\n",
    "# Observe that all parameters are being optimized\n",
    "optimizer_ft = optim.SGD(params_to_update, lr=0.001, momentum=0.9)\n",
    "\n",
    "# Setup the loss fxn\n",
    "print(\"[Using CrossEntropyLoss ...]\")\n",
    "criterion = nn.CrossEntropyLoss()\n",
    "print(\"[Bagnet33 model Initialized...]\")"
   ]
  },
  {
   "cell_type": "code",
   "execution_count": 7,
   "metadata": {},
   "outputs": [
    {
     "name": "stdout",
     "output_type": "stream",
     "text": [
      "--------Saved Bagnet33 weights loaded--------------------\n"
     ]
    }
   ],
   "source": [
    "#---------------Load saved weights------------------------#\n",
    "if torch.cuda.is_available():\n",
    "    checkpoint = torch.load(saved_model_dir + \"bagnet33_baseline_model.pth\")\n",
    "else:\n",
    "    checkpoint = torch.load(saved_model_dir + \"bagnet33_baseline_model.pth\", map_location=torch.device('cpu'))\n",
    "    \n",
    "model_ft.load_state_dict(checkpoint['model_bagnet33_state_dict'])\n",
    "optimizer_ft.load_state_dict(checkpoint['optimizer_bagnet33_state_dict'])\n",
    "print(\"--------Saved Bagnet33 weights loaded--------------------\")"
   ]
  },
  {
   "cell_type": "code",
   "execution_count": 8,
   "metadata": {},
   "outputs": [
    {
     "name": "stdout",
     "output_type": "stream",
     "text": [
      "--------Investigate performance on test datasets---------\n"
     ]
    },
    {
     "data": {
      "application/vnd.jupyter.widget-view+json": {
       "model_id": "700286a42d004dd0b6146979b361e0df",
       "version_major": 2,
       "version_minor": 0
      },
      "text/plain": [
       "HBox(children=(FloatProgress(value=0.0, description='0/1(p)', max=12.0, style=ProgressStyle(description_width=…"
      ]
     },
     "metadata": {},
     "output_type": "display_data"
    },
    {
     "name": "stdout",
     "output_type": "stream",
     "text": [
      "\n"
     ]
    },
    {
     "data": {
      "text/plain": [
       "tensor([[ 9.4663e+00, -4.0800e+00, -2.2340e+00, -3.2600e-01, -3.7969e+00],\n",
       "        [ 5.2859e+00, -2.3385e+00, -6.0996e-01, -1.9601e+00, -9.9134e-01],\n",
       "        [ 2.4137e+00, -3.8712e+00,  2.3901e-01, -4.1165e-03,  6.1497e-01],\n",
       "        ...,\n",
       "        [-2.7060e+00, -1.6154e+00, -8.7537e-01,  1.0314e+00,  3.1629e+00],\n",
       "        [-1.3215e+00, -3.4068e-01,  1.0007e+00, -2.5409e+00,  2.5773e+00],\n",
       "        [-2.7387e+00, -3.1845e+00,  1.9753e+00, -4.0922e-01,  3.4867e+00]])"
      ]
     },
     "execution_count": 8,
     "metadata": {},
     "output_type": "execute_result"
    }
   ],
   "source": [
    "#---------------Investigate performance on test datasets---------\n",
    "\n",
    "print(\"--------Investigate performance on test datasets---------\")\n",
    "model_ft.eval()\n",
    "trial = Trial(model_ft, optimizer_ft, criterion, metrics=['loss', 'accuracy']).to(device)\n",
    "trial.with_generators(train_loader, val_generator=val_loader, test_generator=test_loader)\n",
    "predictions = trial.predict()\n",
    "predicted_classes = predictions.argmax(1).cpu()\n",
    "\n",
    "predictions"
   ]
  },
  {
   "cell_type": "code",
   "execution_count": 13,
   "metadata": {},
   "outputs": [
    {
     "name": "stdout",
     "output_type": "stream",
     "text": [
      "[[65  6  2  2  0]\n",
      " [ 1 70  0  3  1]\n",
      " [ 1  0 68  1  5]\n",
      " [ 1  3  0 71  0]\n",
      " [ 0  1  2  3 69]]\n",
      "[86.66666667 93.33333333 90.66666667 94.66666667 92.        ]\n"
     ]
    }
   ],
   "source": [
    "from sklearn.metrics import confusion_matrix\n",
    "nb_classes = 5\n",
    "\n",
    "# Initialize the prediction and label lists(tensors)\n",
    "predlist=torch.zeros(0,dtype=torch.long, device='cpu')\n",
    "lbllist=torch.zeros(0,dtype=torch.long, device='cpu')\n",
    "\n",
    "with torch.no_grad():\n",
    "    for i, (inputs, classes) in enumerate(test_loader):\n",
    "        inputs = inputs.to(device)\n",
    "        classes = classes.to(device)\n",
    "        outputs = model_ft(inputs)\n",
    "        _, preds = torch.max(outputs, 1)\n",
    "\n",
    "        # Append batch prediction results\n",
    "        predlist=torch.cat([predlist,preds.view(-1).cpu()])\n",
    "        lbllist=torch.cat([lbllist,classes.view(-1).cpu()])\n",
    "\n",
    "# Confusion matrix\n",
    "conf_mat=confusion_matrix(lbllist.numpy(), predlist.numpy())\n",
    "print(conf_mat)\n",
    "\n",
    "# Per-class accuracy\n",
    "class_accuracy=100*conf_mat.diagonal()/conf_mat.sum(1)\n",
    "print(class_accuracy)"
   ]
  },
  {
   "cell_type": "code",
   "execution_count": 69,
   "metadata": {},
   "outputs": [
    {
     "data": {
      "image/png": "[encoded data removed]",
      "text/plain": [
       "<Figure size 432x360 with 2 Axes>"
      ]
     },
     "metadata": {},
     "output_type": "display_data"
    }
   ],
   "source": [
    "import seaborn as sns\n",
    "figsize = (10,5)\n",
    "fontsize=12\n",
    "classes = ['daisy', 'dandelion', 'rose', 'sunflower', 'tulip']\n",
    "df_cm = pd.DataFrame(conf_mat, index=classes, columns=classes)\n",
    "fig = plt.figure(figsize=(6,5))\n",
    "try:\n",
    "    ax = sns.heatmap(df_cm, cmap=\"Blues\", annot=True, fmt=\"d\")\n",
    "except ValueError:\n",
    "    raise ValueError(\"Confusion matrix values must be integers.\")\n",
    "ax.yaxis.set_ticklabels(heatmap.yaxis.get_ticklabels(), rotation=0, ha='right', fontsize=12)\n",
    "# heatmap.xaxis.set_ticklabels(heatmap.xaxis.get_ticklabels(), rotation=45, ha='right', fontsize=fontsize)\n",
    "plt.ylabel('True label')\n",
    "plt.xlabel('Predicted label')\n",
    "\n",
    "bottom, top = ax.get_ylim()\n",
    "ax.set_ylim(bottom + 0.5, top - 0.5)\n",
    "\n",
    "plt.savefig(\"./paperwork/confusion_matrix.png\")\n"
   ]
  },
  {
   "cell_type": "code",
   "execution_count": null,
   "metadata": {},
   "outputs": [],
   "source": []
  }
 ],
 "metadata": {
  "kernelspec": {
   "display_name": "Python 3",
   "language": "python",
   "name": "python3"
  },
  "language_info": {
   "codemirror_mode": {
    "name": "ipython",
    "version": 3
   },
   "file_extension": ".py",
   "mimetype": "text/x-python",
   "name": "python",
   "nbconvert_exporter": "python",
   "pygments_lexer": "ipython3",
   "version": "3.7.4"
  }
 },
 "nbformat": 4,
 "nbformat_minor": 2
}
